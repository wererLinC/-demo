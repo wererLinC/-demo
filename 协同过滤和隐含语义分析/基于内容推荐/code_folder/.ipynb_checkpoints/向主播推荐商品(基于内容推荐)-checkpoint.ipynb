{
 "cells": [
  {
   "cell_type": "code",
   "execution_count": 81,
   "metadata": {},
   "outputs": [],
   "source": [
    "import numpy as np\n",
    "import pandas as pd\n",
    "import tensorflow as tf\n",
    "import sklearn\n",
    "import os\n",
    "import operator\n",
    "import matplotlib.pyplot as plt\n",
    "%matplotlib inline\n",
    "import sys\n",
    "from pprint import pprint\n",
    "from tensorflow import logging"
   ]
  },
  {
   "cell_type": "code",
   "execution_count": 42,
   "metadata": {},
   "outputs": [],
   "source": [
    "def get_time_reward(timestramp):\n",
    "    '''\n",
    "        Args:\n",
    "            timestrap: 直播的时间戳\n",
    "        Return:\n",
    "            weight: 时间的权重\n",
    "    '''\n",
    "    fix_timestramp = 1590802264\n",
    "    total = 24*60*60\n",
    "    delta = (fix_timestramp-int(timestramp))/total\n",
    "    # 进行拉普拉斯修正\n",
    "    return round(1/(1+delta), 3)"
   ]
  },
  {
   "cell_type": "code",
   "execution_count": 142,
   "metadata": {},
   "outputs": [],
   "source": [
    "def get_anchor_style(input_file):\n",
    "    '''\n",
    "        Args:\n",
    "            input_file: 主播直播信息\n",
    "        Return:\n",
    "            一个字典: key:anchor_id, val:[(style1, score1), (style2, score2)]\n",
    "    '''\n",
    "    topk = 2\n",
    "    if not os.path.exists (input_file):\n",
    "        return {}\n",
    "    logging.info(\"Loading the {0} file !!!\".format(input_file))\n",
    "    anchor_record = {}\n",
    "    # 主播列表\n",
    "    anchors = []\n",
    "    with open(input_file, encoding='utf-8') as f:\n",
    "        lines = f.readlines()\n",
    "        line_num = 0\n",
    "        for line in lines:\n",
    "            # 第一行是我们的标题信息\n",
    "            if line_num == 0:\n",
    "                line_num += 1\n",
    "                continue\n",
    "            items = line.strip().split(',')\n",
    "#             print(items)\n",
    "            anchor_id, anchor_nickname, item_id, item_cate, anchor_scores, timestramp \\\n",
    "            = items[0], items[1], items[2], items[3], items[4:-1], items[-1]\n",
    "            anchors.append(anchor_nickname)\n",
    "            logging.info(\"===============================================================\")\n",
    "            reward, like, barrage, watch = int(anchor_scores[0]), int(anchor_scores[1]), int(anchor_scores[3]), int(anchor_scores[3])\n",
    "            # 得到时间的衰减函数\n",
    "            time_weight = get_time_reward(timestramp)\n",
    "            weight = np.array([0.4, 0.3, 0.2, 0.1])\n",
    "            # 直播信息\n",
    "            anchor_info = np.array([reward, like, barrage, watch])\n",
    "            # 计算出主播直播某个风格的得分\n",
    "            score = np.dot(anchor_info, weight)*time_weight\n",
    "#             logging.info(\"===============================================================\")\n",
    "            print(\"{0} 主播直播{1}的得分为{2}\".format(anchor_nickname, item_cate, score))\n",
    "            if anchor_nickname not in anchor_record:\n",
    "                anchor_record[anchor_nickname] = []\n",
    "            # 得到主播的擅长直播的操作\n",
    "            anchor_record[anchor_nickname].append({item_cate: score})\n",
    "        logging.info(\"===================主播直播类型得分===================================\")\n",
    "        pprint(anchor_record)\n",
    "        # 按分数对风格进行排序\n",
    "        anchor_recode_sort = {}\n",
    "        for anchor_name in anchors:\n",
    "            if anchor_name not in anchor_recode_sort:\n",
    "                anchor_recode_sort[anchor_name] = []\n",
    "            for style_score in anchor_record[anchor_name]:\n",
    "                anchor_recode_sort[anchor_name].append(sorted(style_score.items(), key=operator.itemgetter(1), reverse=True))\n",
    "        return anchor_recode_sort            "
   ]
  },
  {
   "cell_type": "code",
   "execution_count": 143,
   "metadata": {},
   "outputs": [
    {
     "name": "stdout",
     "output_type": "stream",
     "text": [
      "INFO:tensorflow:Loading the ../主播.txt file !!!\n",
      "INFO:tensorflow:===============================================================\n",
      "大小花 主播直播女装的得分为268.94\n",
      "INFO:tensorflow:===============================================================\n",
      "大小花 主播直播多肉的得分为72.34920000000001\n",
      "INFO:tensorflow:===============================================================\n",
      "大小花 主播直播珠宝的得分为79.15320000000001\n",
      "INFO:tensorflow:===============================================================\n",
      "杰克jk 主播直播男装的得分为255.46920000000006\n",
      "INFO:tensorflow:===============================================================\n",
      "杰克jk 主播直播篮球的得分为314.874\n",
      "INFO:tensorflow:===============================================================\n",
      "杰克jk 主播直播美食的得分为130.9151\n",
      "INFO:tensorflow:===============================================================\n",
      "简匠文玩 主播直播珠宝的得分为318.8996\n",
      "INFO:tensorflow:===============================================================\n",
      "简匠文玩 主播直播篮球的得分为19.8702\n",
      "INFO:tensorflow:===================主播直播类型得分===================================\n",
      "{'大小花': [{'女装': 268.94}, {'多肉': 72.34920000000001}, {'珠宝': 79.15320000000001}],\n",
      " '杰克jk': [{'男装': 255.46920000000006}, {'篮球': 314.874}, {'美食': 130.9151}],\n",
      " '简匠文玩': [{'珠宝': 318.8996}, {'篮球': 19.8702}]}\n"
     ]
    }
   ],
   "source": [
    "input_file = '../主播.txt'\n",
    "# 得到排序的表格啦\n",
    "anchor_record = get_anchor_style(input_file)\n",
    "# print(anchor_record)"
   ]
  },
  {
   "cell_type": "code",
   "execution_count": 152,
   "metadata": {},
   "outputs": [
    {
     "name": "stdout",
     "output_type": "stream",
     "text": [
      "INFO:tensorflow:正在加载商品文件,请骚等…………\n",
      "INFO:tensorflow:================全部商品信息======================\n",
      "{'多肉': ['6666', '7777'],\n",
      " '女装': ['1111'],\n",
      " '珠宝': ['3333'],\n",
      " '男装': ['2222', '8888'],\n",
      " '篮球': ['5555'],\n",
      " '美食': ['4444']}\n"
     ]
    }
   ],
   "source": [
    "items_info = '../商品信息.txt'\n",
    "def read_items(input_file):\n",
    "    '''\n",
    "        Args:\n",
    "            input_file: 商品信息文件\n",
    "        Return:\n",
    "            a dict: [key:商品id, value: 商品类别]\n",
    "    '''\n",
    "    items_cate = [\"\", \"女装\", \"男装\", \"珠宝\", \"美食\", \"篮球\", \"多肉\"]\n",
    "    if not os.path.exists(input_file):\n",
    "        return {}\n",
    "    item_recode = {}\n",
    "    logging.info(\"正在加载商品文件,请骚等…………\")\n",
    "    with open(input_file, encoding='utf-8') as f:\n",
    "        lines = f.readlines()\n",
    "        line_num = 0\n",
    "        for line in lines:\n",
    "            if line_num == 0:\n",
    "                line_num += 1\n",
    "                continue\n",
    "            items = line.strip().split(',')\n",
    "            if items_cate[int(items[1])] not in item_recode:\n",
    "                item_recode[items_cate[int(items[1])]] = []\n",
    "            item_recode[items_cate[int(items[1])]].append(items[0])\n",
    "    logging.info(\"================全部商品信息======================\")\n",
    "    pprint(item_recode)\n",
    "    return item_recode\n",
    "# 得到商品的信息\n",
    "item_recode = read_items(items_info)"
   ]
  },
  {
   "cell_type": "markdown",
   "metadata": {},
   "source": [
    "主播刻画(风格： 权重)：   \n",
    "     {'大小花': [{'女装': 268.94}, {'多肉': 72.34920000000001}, {'珠宝': 79.15320000000001}],  \n",
    "      '杰克jk': [{'男装': 255.46920000000006}, {'篮球': 314.874}, {'美食': 130.9151}],  \n",
    "      '简匠文玩': [{'珠宝': 318.8996}, {'篮球': 19.8702}]}  \n",
    " 商品刻画(类别： 商品id)：  \n",
    "     {'多肉': ['6666', '7777'],  \n",
    "      '女装': ['1111'],  \n",
    "      '珠宝': ['3333'],  \n",
    "      '男装': ['2222', '8888'],  \n",
    "      '篮球': ['5555'],  \n",
    "      '美食': ['4444']}"
   ]
  },
  {
   "cell_type": "code",
   "execution_count": 162,
   "metadata": {},
   "outputs": [
    {
     "name": "stdout",
     "output_type": "stream",
     "text": [
      "INFO:tensorflow:================大小花最擅长直播的类型:=======================\n",
      "['女装', '多肉']\n",
      "INFO:tensorflow:推荐系统正在推荐，请骚等…………\n",
      "INFO:tensorflow:===============大小花推荐商品结果为：=========================\n",
      "{'大小花': [['1111'], ['6666', '7777']]}\n"
     ]
    }
   ],
   "source": [
    "def recommand(anchor_name, item_recode, anchor_record, topk = 2):\n",
    "    '''\n",
    "        Args:\n",
    "            anchor_name: 通过主播的名字来斤进行推荐\n",
    "            item_recoder: 商品的信息\n",
    "            anchor_recoder: 主播擅长直播的信息表\n",
    "            topk: 表示推荐几个商品\n",
    "        Return:\n",
    "         a dict: 返回{'主播名称': [推荐商品id1， 推荐商品id2， ……]}\n",
    "    '''\n",
    "    # 记录主播擅长的风格\n",
    "    good_style = [] \n",
    "    # 默认取两个最擅长的类型\n",
    "    for anchor_dict in anchor_record[anchor_name][:2]:\n",
    "        good_style.append(anchor_dict[0][0])\n",
    "    logging.info(\"================{0}最擅长直播的类型:=======================\".format(anchor_name))\n",
    "    pprint(good_style)\n",
    "    logging.info(\"推荐系统正在推荐，请骚等…………\")\n",
    "    recommand_items = {}\n",
    "    if anchor_name not in recommand_items:\n",
    "        recommand_items[anchor_name] = []\n",
    "    for cate in good_style:\n",
    "        recommand_items[anchor_name].append(item_recode[cate])\n",
    "    logging.info(\"==============={0}推荐商品结果为：=========================\".format(anchor_name))\n",
    "    pprint(recommand_items)\n",
    "    \n",
    "# 对我们主播进行推荐商品\n",
    "recommand(\"大小花\", item_recode, anchor_record)"
   ]
  }
 ],
 "metadata": {
  "kernelspec": {
   "display_name": "Python 3",
   "language": "python",
   "name": "python3"
  },
  "language_info": {
   "codemirror_mode": {
    "name": "ipython",
    "version": 3
   },
   "file_extension": ".py",
   "mimetype": "text/x-python",
   "name": "python",
   "nbconvert_exporter": "python",
   "pygments_lexer": "ipython3",
   "version": "3.5.2"
  }
 },
 "nbformat": 4,
 "nbformat_minor": 4
}
