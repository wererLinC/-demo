{
 "cells": [
  {
   "cell_type": "code",
   "execution_count": 1,
   "metadata": {},
   "outputs": [
    {
     "name": "stderr",
     "output_type": "stream",
     "text": [
      "/home/ubuntu/selfFile/venv/lib/python3.5/site-packages/tensorflow/python/framework/dtypes.py:517: FutureWarning: Passing (type, 1) or '1type' as a synonym of type is deprecated; in a future version of numpy, it will be understood as (type, (1,)) / '(1,)type'.\n",
      "  _np_qint8 = np.dtype([(\"qint8\", np.int8, 1)])\n",
      "/home/ubuntu/selfFile/venv/lib/python3.5/site-packages/tensorflow/python/framework/dtypes.py:518: FutureWarning: Passing (type, 1) or '1type' as a synonym of type is deprecated; in a future version of numpy, it will be understood as (type, (1,)) / '(1,)type'.\n",
      "  _np_quint8 = np.dtype([(\"quint8\", np.uint8, 1)])\n",
      "/home/ubuntu/selfFile/venv/lib/python3.5/site-packages/tensorflow/python/framework/dtypes.py:519: FutureWarning: Passing (type, 1) or '1type' as a synonym of type is deprecated; in a future version of numpy, it will be understood as (type, (1,)) / '(1,)type'.\n",
      "  _np_qint16 = np.dtype([(\"qint16\", np.int16, 1)])\n",
      "/home/ubuntu/selfFile/venv/lib/python3.5/site-packages/tensorflow/python/framework/dtypes.py:520: FutureWarning: Passing (type, 1) or '1type' as a synonym of type is deprecated; in a future version of numpy, it will be understood as (type, (1,)) / '(1,)type'.\n",
      "  _np_quint16 = np.dtype([(\"quint16\", np.uint16, 1)])\n",
      "/home/ubuntu/selfFile/venv/lib/python3.5/site-packages/tensorflow/python/framework/dtypes.py:521: FutureWarning: Passing (type, 1) or '1type' as a synonym of type is deprecated; in a future version of numpy, it will be understood as (type, (1,)) / '(1,)type'.\n",
      "  _np_qint32 = np.dtype([(\"qint32\", np.int32, 1)])\n",
      "/home/ubuntu/selfFile/venv/lib/python3.5/site-packages/tensorflow/python/framework/dtypes.py:526: FutureWarning: Passing (type, 1) or '1type' as a synonym of type is deprecated; in a future version of numpy, it will be understood as (type, (1,)) / '(1,)type'.\n",
      "  np_resource = np.dtype([(\"resource\", np.ubyte, 1)])\n"
     ]
    }
   ],
   "source": [
    "import numpy as np\n",
    "import pandas as pd\n",
    "import sklearn\n",
    "import matplotlib as plt\n",
    "%matplotlib inline\n",
    "import os\n",
    "import sys\n",
    "import math\n",
    "from tensorflow import logging\n",
    "from tensorflow import gfile\n",
    "from pprint import pprint\n",
    "import tensorflow as tf"
   ]
  },
  {
   "cell_type": "code",
   "execution_count": 2,
   "metadata": {},
   "outputs": [
    {
     "name": "stdout",
     "output_type": "stream",
     "text": [
      "{0: [100, 200, 400], 1: [100, 300], 2: [200, 500], 3: [300, 400, 500]}\n"
     ]
    }
   ],
   "source": [
    "'''\n",
    "    0123:表示用户的编号\n",
    "    [100, 200, 300, 400, 500]:表示我们的商品的编码\n",
    "    user-->item: 表示我们用户买过的商品列表\n",
    "'''\n",
    "user_item={0: [100, 200, 400], 1: [100, 200], 2: [200, 500], 3: [300, 400, 500]}\n",
    "pprint(user_item)"
   ]
  },
  {
   "cell_type": "code",
   "execution_count": 3,
   "metadata": {},
   "outputs": [],
   "source": [
    "#计算用户兴趣相似度\n",
    "def user_sim(user_item):\n",
    "    '''\n",
    "       user_item: 表示的是 user-->item 的映射\n",
    "       item_user: 表示的是 item-->user 的映射\n",
    "       weight_matrix: 表示用户之间的相似度\n",
    "    '''\n",
    "    #做成物品--> 用户的映射\n",
    "    item_user = {}\n",
    "    for user, items in user_item.items():\n",
    "        # 遍历我们所有的物品，然后找到相对应的用户\n",
    "        for item in items:\n",
    "            if item not in item_user:\n",
    "                item_user[item] = set()\n",
    "            item_user[item].add(user)\n",
    "    pprint(item_user) \n",
    "    \n",
    "    # 存储我们的用户相似矩阵\n",
    "    user_sim_matrix = np.zeros((len(user_item.keys()), len(user_item.keys())))\n",
    "    print(\"初始化相关矩阵\")\n",
    "    pprint(user_sim_matrix)\n",
    "    print(\"user_sim_matrix shape is :\", user_sim_matrix.shape)\n",
    "    for item, users in item_user.items():\n",
    "        # 对我们的用户进行排列组合(A, B) ==> (A, B), (B, A)\n",
    "        import itertools\n",
    "        combination = [list(i) for i in itertools.combinations(users,2)]\n",
    "#         pprint(combination)\n",
    "        for i in combination:\n",
    "            print(\"要更新的下标是{0}\".format(i))\n",
    "            row, col = i\n",
    "            user_sim_matrix[row, col] += 1\n",
    "            user_sim_matrix[col, row] += 1\n",
    "    print(\"相关矩阵的最终结果\")\n",
    "    pprint(user_sim_matrix)\n",
    "    \n",
    "    # 把我们的矩阵转化为相关的的权重\n",
    "    matrix_sum = sum(sum(user_sim_matrix) / 2)\n",
    "    print(matrix_sum)\n",
    "    weight_matrix = user_sim_matrix / matrix_sum\n",
    "    \n",
    "    print(\"权重矩阵的输出结果：\")\n",
    "    pprint(weight_matrix)\n",
    "    return weight_matrix"
   ]
  },
  {
   "cell_type": "code",
   "execution_count": 4,
   "metadata": {},
   "outputs": [
    {
     "name": "stdout",
     "output_type": "stream",
     "text": [
      "{100: {0, 1}, 200: {0, 2}, 300: {1, 3}, 400: {0, 3}, 500: {2, 3}}\n",
      "初始化相关矩阵\n",
      "array([[0., 0., 0., 0.],\n",
      "       [0., 0., 0., 0.],\n",
      "       [0., 0., 0., 0.],\n",
      "       [0., 0., 0., 0.]])\n",
      "user_sim_matrix shape is : (4, 4)\n",
      "要更新的下标是[0, 2]\n",
      "要更新的下标是[0, 3]\n",
      "要更新的下标是[0, 1]\n",
      "要更新的下标是[2, 3]\n",
      "要更新的下标是[1, 3]\n",
      "相关矩阵的最终结果\n",
      "array([[0., 1., 1., 1.],\n",
      "       [1., 0., 0., 1.],\n",
      "       [1., 0., 0., 1.],\n",
      "       [1., 1., 1., 0.]])\n",
      "5.0\n",
      "权重矩阵的输出结果：\n",
      "array([[0. , 0.2, 0.2, 0.2],\n",
      "       [0.2, 0. , 0. , 0.2],\n",
      "       [0.2, 0. , 0. , 0.2],\n",
      "       [0.2, 0.2, 0.2, 0. ]])\n"
     ]
    }
   ],
   "source": [
    "weight_matrix = user_sim(user_item)"
   ]
  },
  {
   "cell_type": "code",
   "execution_count": 5,
   "metadata": {},
   "outputs": [],
   "source": [
    "# 进行推荐系统的实现\n",
    "def recommend(user, user_item, weight_matrix, k=2):\n",
    "    '''\n",
    "        user: 表示我们要向用户user进行商品的推荐\n",
    "        user_item: user-->item 的映射关系\n",
    "        weight_matrix: 权重矩阵\n",
    "        k: 表示我们选取几个人来进行协同推荐\n",
    "    '''\n",
    "    # 推荐商品列表{商品： 推荐程度}\n",
    "    rank_items = {}\n",
    "    # 这里我们假定所有用户对意见产品的喜欢程度为1\n",
    "    rvi = 1 \n",
    "    # 表示我们用户user买过的产品,用来进行商品的筛选，因为买过了，就不再进行推荐\n",
    "    interacted_items = user_item[user]\n",
    "    # 找出和我们用户 user 兴趣比较相近的用户\n",
    "    related_users = weight_matrix[user] # 得到整行数据\n",
    "    print(\"找到和用户 user 所有相关的用户\")\n",
    "    # 对我们的用户进行排序\n",
    "    # 如果我们用户传进来的人数比我们整的人数还多，我们就进行clips\n",
    "    if k >= len(related_users):\n",
    "        print(\"总的人数为\", len(related_users))\n",
    "        k = len(related_users) - 1\n",
    "    # 找到前 k 个兴趣最相近的下标，此时下标就是用户\n",
    "    k_related_users = np.argsort(-related_users)[:k]\n",
    "    print(\"找到前 {0} 个兴趣最相近的用户\".format(k))\n",
    "    pprint(k_related_users)\n",
    "    \n",
    "    for related_user in k_related_users:\n",
    "        for item in user_item[related_user]:\n",
    "            # 如果此商品已经买过了，那么我们就忽略\n",
    "            if item in interacted_items:\n",
    "                continue\n",
    "            # 如果我们的商品还没有被买过，那么就有被推荐的可能\n",
    "            if item not in rank_items.keys():\n",
    "                rank_items[item] = 0\n",
    "            rank_items[item] += weight_matrix[user][related_user] * rvi\n",
    "    print(\"最终推荐的产品及推荐指数： \")\n",
    "    pprint(rank_items)\n",
    "    return rank_items"
   ]
  },
  {
   "cell_type": "code",
   "execution_count": 7,
   "metadata": {},
   "outputs": [
    {
     "name": "stdout",
     "output_type": "stream",
     "text": [
      "找到和用户 user 所有相关的用户\n",
      "总的人数为 4\n",
      "找到前 3 个兴趣最相近的用户\n",
      "array([1, 2, 3])\n",
      "最终推荐的产品及推荐指数： \n",
      "{300: 0.4, 500: 0.4}\n"
     ]
    },
    {
     "data": {
      "text/plain": [
       "{300: 0.4, 500: 0.4}"
      ]
     },
     "execution_count": 7,
     "metadata": {},
     "output_type": "execute_result"
    }
   ],
   "source": [
    "# inference\n",
    "recommend(0, user_item, weight_matrix, 4)"
   ]
  }
 ],
 "metadata": {
  "kernelspec": {
   "display_name": "Python 3",
   "language": "python",
   "name": "python3"
  },
  "language_info": {
   "codemirror_mode": {
    "name": "ipython",
    "version": 3
   },
   "file_extension": ".py",
   "mimetype": "text/x-python",
   "name": "python",
   "nbconvert_exporter": "python",
   "pygments_lexer": "ipython3",
   "version": "3.5.2"
  }
 },
 "nbformat": 4,
 "nbformat_minor": 4
}
